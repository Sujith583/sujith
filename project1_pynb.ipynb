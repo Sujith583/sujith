{
  "nbformat": 4,
  "nbformat_minor": 0,
  "metadata": {
    "colab": {
      "name": "project1.pynb",
      "provenance": [],
      "collapsed_sections": []
    },
    "kernelspec": {
      "name": "python3",
      "display_name": "Python 3"
    },
    "language_info": {
      "name": "python"
    }
  },
  "cells": [
    {
      "cell_type": "markdown",
      "source": [
        "car start and stop and help in python programming for commanding\n"
      ],
      "metadata": {
        "id": "iFRgsZeXNe2B"
      }
    },
    {
      "cell_type": "code",
      "source": [
        "command=\"\"\n",
        "\n",
        "start=False\n",
        "\n",
        "while True:\n",
        "  command=input().lower()\n",
        "  if command==\"start\":\n",
        "    if start:\n",
        "      print(\"car is already started\")\n",
        "    else:\n",
        "      start=True\n",
        "      print(\"car start...\")\n",
        "  elif command==\"stop\":\n",
        "    if not start:\n",
        "      print(\"car is already stoped\")\n",
        "    else:\n",
        "      start=False\n",
        "      print(\"car stop...\")\n",
        "  elif command==\"help\":\n",
        "    print(f\"\"\"\n",
        "start- car is start\n",
        "stop- car is stop\n",
        "quit-quit\n",
        "help-help\"\"\")\n",
        "  elif command==\"quit\":\n",
        "    break\n",
        "else:\n",
        "  print(\"sorry...\")"
      ],
      "metadata": {
        "colab": {
          "base_uri": "https://localhost:8080/"
        },
        "id": "8gUELOp8NxdI",
        "outputId": "a6d852c5-f5f4-48ab-e6da-8bbcdf528a07"
      },
      "execution_count": null,
      "outputs": [
        {
          "name": "stdout",
          "output_type": "stream",
          "text": [
            "start\n",
            "car start...\n",
            "start\n",
            "car is already started\n",
            "stop\n",
            "car stop...\n",
            "stop\n",
            "car is already stoped\n",
            "help\n",
            "\n",
            "start- car is start\n",
            "stop- car is stop\n",
            "quit-quit\n",
            "help-help\n",
            "quit\n"
          ]
        }
      ]
    },
    {
      "cell_type": "markdown",
      "source": [
        "Secret number identifying \n",
        "only 3 chances\n",
        "\n"
      ],
      "metadata": {
        "id": "CysFc2YCQC2h"
      }
    },
    {
      "cell_type": "code",
      "source": [
        "secret_number=10\n",
        "\n",
        "chance_count=0\n",
        "chance_limit=3\n",
        "\n",
        "while chance_count < chance_limit:\n",
        "  guess=int(input(\"guess: \"))\n",
        "  chance_count+=1\n",
        "  if guess==secret_number:\n",
        "    print(\"you are win\")\n",
        "    break\n",
        "else:\n",
        "    print(\"sorry next time\")\n"
      ],
      "metadata": {
        "colab": {
          "base_uri": "https://localhost:8080/"
        },
        "id": "1kauroIjPYat",
        "outputId": "ad719d9e-57a2-4098-cb32-ec620edb0878"
      },
      "execution_count": null,
      "outputs": [
        {
          "output_type": "stream",
          "name": "stdout",
          "text": [
            "guess: 9\n",
            "guess: 8\n",
            "guess: 10\n",
            "you are win\n"
          ]
        }
      ]
    },
    {
      "cell_type": "code",
      "source": [
        ""
      ],
      "metadata": {
        "id": "mO2YjEd3RsRm"
      },
      "execution_count": null,
      "outputs": []
    }
  ]
}